{
  "nbformat": 4,
  "nbformat_minor": 0,
  "metadata": {
    "colab": {
      "provenance": [],
      "authorship_tag": "ABX9TyNCcFYLcKovUrnFIRvnvmI6",
      "include_colab_link": true
    },
    "kernelspec": {
      "name": "python3",
      "display_name": "Python 3"
    },
    "language_info": {
      "name": "python"
    }
  },
  "cells": [
    {
      "cell_type": "markdown",
      "metadata": {
        "id": "view-in-github",
        "colab_type": "text"
      },
      "source": [
        "<a href=\"https://colab.research.google.com/github/Bagus780/statisika/blob/main/week2ADANB.ipynb\" target=\"_parent\"><img src=\"https://colab.research.google.com/assets/colab-badge.svg\" alt=\"Open In Colab\"/></a>"
      ]
    },
    {
      "cell_type": "markdown",
      "source": [
        "##Kode A"
      ],
      "metadata": {
        "id": "UAuFnUm8Q4Cq"
      }
    },
    {
      "cell_type": "code",
      "execution_count": 1,
      "metadata": {
        "id": "_CYe8_h7Os7k",
        "outputId": "20657131-a21f-4cb7-c3a8-d27b39bbca83",
        "colab": {
          "base_uri": "https://localhost:8080/"
        }
      },
      "outputs": [
        {
          "output_type": "stream",
          "name": "stdout",
          "text": [
            "10.0\n",
            "30.0\n",
            "45.0\n",
            "55.0\n",
            "67.0\n",
            "75.0\n",
            "84.0\n",
            "100.0\n",
            "111.0\n",
            "128.0\n"
          ]
        }
      ],
      "source": [
        "# Buat daftar buah apel dalam bentuk list (Manual) mean\n",
        "apel = [100, 200, 150, 100, 120, 80, 90, 160, 110, 170]\n",
        "\n",
        "total_berat = 0 #variabel untuk menyimpan total berat seluruh apel\n",
        "\n",
        "for i in range(len(apel)):\n",
        "  total_berat = total_berat + apel[i] # jumlah semua berat apel\n",
        "\n",
        "  avg_apel = total_berat / len(apel)\n",
        "  print(avg_apel)"
      ]
    },
    {
      "cell_type": "code",
      "source": [
        "# kode numpy mean\n",
        "import numpy as np\n",
        "apel = [100, 200, 150, 100, 120, 80, 90, 160, 110, 170]\n",
        "avg_apel = np.mean(apel)\n",
        "print(avg_apel)"
      ],
      "metadata": {
        "id": "IWb7w_hySevC",
        "outputId": "ac9456a9-0633-4433-b040-ca0250ed7b52",
        "colab": {
          "base_uri": "https://localhost:8080/"
        }
      },
      "execution_count": 2,
      "outputs": [
        {
          "output_type": "stream",
          "name": "stdout",
          "text": [
            "128.0\n"
          ]
        }
      ]
    },
    {
      "cell_type": "code",
      "source": [
        "# Median\n",
        "import math\n",
        "\n",
        "def bubblesort(elements):\n",
        "  for n in range(len(elements)-1, 0, -1):\n",
        "    for i in range(n):\n",
        "      if elements[i] > elements[i + 1]:\n",
        "        elements[i], elements[i + 1] = elements[i + 1], elements[i]\n",
        "  return elements\n",
        "\n",
        "def calc_median(elements):\n",
        "  elements = bubblesort(elements)\n",
        "  len_element = len(elements)\n",
        "  if len_element % 2 is 0:\n",
        "    center = math.floor(len_element/2)\n",
        "    return (elements[center-1] + elements[center]) /2\n",
        "  else:\n",
        "    return elements[math.cell(len_element/2)-1]\n",
        "\n",
        "apel = [100, 200, 150, 100, 120, 80, 90, 160, 110, 170]\n",
        "median = calc_median(apel)\n",
        "print(median)"
      ],
      "metadata": {
        "id": "5LnZ8XrqTNMc",
        "outputId": "6fe9503d-2361-4dc2-f0a1-8b13a5c4f16d",
        "colab": {
          "base_uri": "https://localhost:8080/"
        }
      },
      "execution_count": 5,
      "outputs": [
        {
          "output_type": "stream",
          "name": "stdout",
          "text": [
            "115.0\n"
          ]
        },
        {
          "output_type": "stream",
          "name": "stderr",
          "text": [
            "<>:14: SyntaxWarning: \"is\" with a literal. Did you mean \"==\"?\n",
            "<>:14: SyntaxWarning: \"is\" with a literal. Did you mean \"==\"?\n",
            "<ipython-input-5-5feefb7f6ddd>:14: SyntaxWarning: \"is\" with a literal. Did you mean \"==\"?\n",
            "  if len_element % 2 is 0:\n"
          ]
        }
      ]
    },
    {
      "cell_type": "code",
      "source": [
        "#kode numpy median\n",
        "\n",
        "import numpy as np\n",
        "apel = [100, 200, 150, 100, 120, 80, 90, 160, 110, 170]\n",
        "med_apel = np.median(apel)\n",
        "apel.sort()\n",
        "apel_urut = ' '.join(map(str, apel))\n",
        "print ('apel urut : {:s}'.format(apel_urut))\n",
        "print(med_apel)"
      ],
      "metadata": {
        "id": "fvM32Mz-V6Ok",
        "outputId": "3ee01b38-de20-440b-aae6-f61aa24e4f6d",
        "colab": {
          "base_uri": "https://localhost:8080/"
        }
      },
      "execution_count": 9,
      "outputs": [
        {
          "output_type": "stream",
          "name": "stdout",
          "text": [
            "apel urut : 80 90 100 100 110 120 150 160 170 200\n",
            "115.0\n"
          ]
        }
      ]
    },
    {
      "cell_type": "code",
      "source": [
        "#Modus\n",
        "\n",
        "from scipy import stats\n",
        "import statistics as s\n",
        "\n",
        "nilai = [70, 80, 70, 70, 90, 100]\n",
        "\n",
        "mode_nilai = stats.mode(nilai) #scipy\n",
        "modus = s.mode(nilai) #native python\n",
        "print(modus)\n",
        "print(mode_nilai)\n",
        "print(mode_nilai.mode)"
      ],
      "metadata": {
        "id": "W4YlNQ7dXPo0",
        "outputId": "31348c4c-b2e8-4c47-effb-1a4f601e44f4",
        "colab": {
          "base_uri": "https://localhost:8080/"
        }
      },
      "execution_count": 11,
      "outputs": [
        {
          "output_type": "stream",
          "name": "stdout",
          "text": [
            "70\n",
            "ModeResult(mode=array([70]), count=array([3]))\n",
            "[70]\n"
          ]
        }
      ]
    },
    {
      "cell_type": "markdown",
      "source": [
        "##Kode B"
      ],
      "metadata": {
        "id": "HpMLlvtNYlu1"
      }
    },
    {
      "cell_type": "code",
      "source": [
        "# Rentang(Range)\n",
        "\n",
        "import numpy as np\n",
        "\n",
        "data = np.array([23, 56, 45, 65, 59, 55, 62, 54, 85, 25])\n",
        "data_max = max(data)\n",
        "data_min = min(data)\n",
        "range = data_max - data_min\n",
        "print(range)"
      ],
      "metadata": {
        "id": "_As0Zt5dYxVN",
        "outputId": "f83c9ff0-f44f-4f6d-e9f3-7c0e50db5071",
        "colab": {
          "base_uri": "https://localhost:8080/"
        }
      },
      "execution_count": 14,
      "outputs": [
        {
          "output_type": "stream",
          "name": "stdout",
          "text": [
            "62\n"
          ]
        }
      ]
    },
    {
      "cell_type": "code",
      "source": [
        "#Bagaiman mendapat nilai Q3 dan Q1 ? (3)\n",
        "\n",
        "import numpy as np \n",
        "import pandas as pd \n",
        "\n",
        "data_baru = np.array([23, 56, 45, 65, 59, 55, 62, 54, 85, 25, 55])\n",
        "print(pd.DataFrame(data_baru).describe)"
      ],
      "metadata": {
        "id": "APKQOngpZvua",
        "outputId": "7cbdb1d9-c8df-4e84-860b-4cd3fd32ad5b",
        "colab": {
          "base_uri": "https://localhost:8080/"
        }
      },
      "execution_count": 16,
      "outputs": [
        {
          "output_type": "stream",
          "name": "stdout",
          "text": [
            "<bound method NDFrame.describe of      0\n",
            "0   23\n",
            "1   56\n",
            "2   45\n",
            "3   65\n",
            "4   59\n",
            "5   55\n",
            "6   62\n",
            "7   54\n",
            "8   85\n",
            "9   25\n",
            "10  55>\n"
          ]
        }
      ]
    },
    {
      "cell_type": "code",
      "source": [
        "# Manfaat Scaling - Normalisasi Data(1)\n",
        "\n",
        "import numpy as np\n",
        "import matplotlib.pyplot as plt\n",
        "\n",
        "data_raw =np.array\n",
        "([\n",
        "    [2,3,7,30],\n",
        "    [9,4,6,1],\n",
        "    [8,15,2,40],\n",
        "    [20,10,22,6]\n",
        "])"
      ],
      "metadata": {
        "id": "HNlHjw2Lau-O",
        "outputId": "1a35e297-be61-4e05-86c7-851cd631365b",
        "colab": {
          "base_uri": "https://localhost:8080/"
        }
      },
      "execution_count": 20,
      "outputs": [
        {
          "output_type": "execute_result",
          "data": {
            "text/plain": [
              "[[2, 3, 7, 30], [9, 4, 6, 1], [8, 15, 2, 40], [20, 10, 22, 6]]"
            ]
          },
          "metadata": {},
          "execution_count": 20
        }
      ]
    },
    {
      "cell_type": "code",
      "source": [
        "#Manfaat Scaling - Normalisasi Data(2)\n",
        "import numpy as np\n",
        "import matplotlib.pyplot as plt\n",
        "from sklearn.preprocessing import MinMaxScaler\n",
        "\n",
        "data_raw = np.array([\n",
        "    [2, 3, 7, 30],\n",
        "    [9, 4, 6, 1],\n",
        "    [8, 15, 2, 40],\n",
        "    [20, 10, 2, 6]\n",
        "])\n",
        "\n",
        "scaler = MinMaxScaler()\n",
        "data_scale = scaler.fit_transform(data_raw)"
      ],
      "metadata": {
        "id": "AQhcbSufcOts"
      },
      "execution_count": 25,
      "outputs": []
    },
    {
      "cell_type": "code",
      "source": [
        "#Standarisasi Data\n",
        "import numpy as np\n",
        "import matplotlib.pyplot as plt\n",
        "from sklearn.preprocessing import MinMaxScaler, StandardScaler\n",
        "\n",
        "data_raw = np.array([\n",
        "    [2, 3, 7, 30],\n",
        "    [9, 4, 6, 1],\n",
        "    [8, 15, 2, 40],\n",
        "    [20, 10, 2, 6]\n",
        "])\n",
        "\n",
        "scaler = MinMaxScaler()\n",
        "data_stand = scaler.fit_transform(data_raw)\n",
        "\n",
        "plt.boxplot(data_stand)"
      ],
      "metadata": {
        "id": "eFuU-XCEddhJ",
        "outputId": "be01f79c-284e-4459-be1c-e4714638bc58",
        "colab": {
          "base_uri": "https://localhost:8080/",
          "height": 768
        }
      },
      "execution_count": 27,
      "outputs": [
        {
          "output_type": "execute_result",
          "data": {
            "text/plain": [
              "{'whiskers': [<matplotlib.lines.Line2D at 0x7f84d1513190>,\n",
              "  <matplotlib.lines.Line2D at 0x7f84d1513460>,\n",
              "  <matplotlib.lines.Line2D at 0x7f84d149f5b0>,\n",
              "  <matplotlib.lines.Line2D at 0x7f84d149f880>,\n",
              "  <matplotlib.lines.Line2D at 0x7f84d14ac9a0>,\n",
              "  <matplotlib.lines.Line2D at 0x7f84d14acc70>,\n",
              "  <matplotlib.lines.Line2D at 0x7f84d14b9d90>,\n",
              "  <matplotlib.lines.Line2D at 0x7f84d14c60a0>],\n",
              " 'caps': [<matplotlib.lines.Line2D at 0x7f84d1513730>,\n",
              "  <matplotlib.lines.Line2D at 0x7f84d1513a00>,\n",
              "  <matplotlib.lines.Line2D at 0x7f84d149fb50>,\n",
              "  <matplotlib.lines.Line2D at 0x7f84d149fe20>,\n",
              "  <matplotlib.lines.Line2D at 0x7f84d14acf40>,\n",
              "  <matplotlib.lines.Line2D at 0x7f84d14b9250>,\n",
              "  <matplotlib.lines.Line2D at 0x7f84d14c6370>,\n",
              "  <matplotlib.lines.Line2D at 0x7f84d14c6640>],\n",
              " 'boxes': [<matplotlib.lines.Line2D at 0x7f84d14eeeb0>,\n",
              "  <matplotlib.lines.Line2D at 0x7f84d149f2e0>,\n",
              "  <matplotlib.lines.Line2D at 0x7f84d14ac6d0>,\n",
              "  <matplotlib.lines.Line2D at 0x7f84d14b9ac0>],\n",
              " 'medians': [<matplotlib.lines.Line2D at 0x7f84d1513cd0>,\n",
              "  <matplotlib.lines.Line2D at 0x7f84d14ac130>,\n",
              "  <matplotlib.lines.Line2D at 0x7f84d14b9520>,\n",
              "  <matplotlib.lines.Line2D at 0x7f84d14c6910>],\n",
              " 'fliers': [<matplotlib.lines.Line2D at 0x7f84d1513fa0>,\n",
              "  <matplotlib.lines.Line2D at 0x7f84d14ac400>,\n",
              "  <matplotlib.lines.Line2D at 0x7f84d14b97f0>,\n",
              "  <matplotlib.lines.Line2D at 0x7f84d14c6be0>],\n",
              " 'means': []}"
            ]
          },
          "metadata": {},
          "execution_count": 27
        },
        {
          "output_type": "display_data",
          "data": {
            "text/plain": [
              "<Figure size 432x288 with 1 Axes>"
            ],
            "image/png": "[encoded data removed]"
          },
          "metadata": {
            "needs_background": "light"
          }
        }
      ]
    }
  ]
}